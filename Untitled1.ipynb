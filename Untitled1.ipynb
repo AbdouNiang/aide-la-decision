{
 "cells": [
  {
   "cell_type": "code",
   "execution_count": 1,
   "id": "8357f1ca",
   "metadata": {},
   "outputs": [],
   "source": [
    "import numpy as np"
   ]
  },
  {
   "cell_type": "code",
   "execution_count": 2,
   "id": "74012495",
   "metadata": {},
   "outputs": [],
   "source": [
    "candidats = {\n",
    "    'A1': [16, 14, 16],\n",
    "    'A2': [10, 18, 12],\n",
    "    'A3': [18, 12, 6],\n",
    "    'A4': [18, 4, 20],\n",
    "    'A5': [16, 10, 12],\n",
    "    'A6': [6, 14, 18]\n",
    "}"
   ]
  },
  {
   "cell_type": "code",
   "execution_count": 3,
   "id": "d3e570a6",
   "metadata": {},
   "outputs": [],
   "source": [
    "poids = [0.6, 0.1, 0.3]\n"
   ]
  },
  {
   "cell_type": "code",
   "execution_count": 4,
   "id": "490ffe0e",
   "metadata": {},
   "outputs": [],
   "source": [
    "nb_candidats = len(candidats)\n",
    "comparaison_matrice = np.zeros((nb_candidats, nb_candidats))\n"
   ]
  },
  {
   "cell_type": "code",
   "execution_count": 5,
   "id": "8136995f",
   "metadata": {},
   "outputs": [],
   "source": [
    "# Compare les candidats deux à deux en conservant les poids pertinents\n",
    "for i in range(nb_candidats):\n",
    "    for j in range(nb_candidats):\n",
    "        if i != j:\n",
    "            for k in range(len(poids)):\n",
    "                if candidats[f'A{i+1}'][k] >= candidats[f'A{j+1}'][k]:\n",
    "                    comparaison_matrice[i, j] += poids[k]"
   ]
  },
  {
   "cell_type": "code",
   "execution_count": 6,
   "id": "999207e4",
   "metadata": {},
   "outputs": [
    {
     "name": "stdout",
     "output_type": "stream",
     "text": [
      "Tableau de comparaison des candidats :\n",
      "[[0.  0.9 0.4 0.1 1.  0.7]\n",
      " [0.1 0.  0.4 0.1 0.4 0.7]\n",
      " [0.6 0.6 0.  0.7 0.7 0.6]\n",
      " [0.9 0.9 0.9 0.  0.9 0.9]\n",
      " [0.6 0.9 0.3 0.1 0.  0.6]\n",
      " [0.4 0.3 0.4 0.1 0.4 0. ]]\n"
     ]
    }
   ],
   "source": [
    "print(\"Tableau de comparaison des candidats :\")\n",
    "print(comparaison_matrice)"
   ]
  },
  {
   "cell_type": "code",
   "execution_count": 7,
   "id": "207c82f4",
   "metadata": {},
   "outputs": [],
   "source": [
    "flux_positif = comparaison_matrice.sum(axis=0)"
   ]
  },
  {
   "cell_type": "code",
   "execution_count": 8,
   "id": "6c0a61ab",
   "metadata": {},
   "outputs": [],
   "source": [
    "flux_negatif = comparaison_matrice.sum(axis=1)"
   ]
  },
  {
   "cell_type": "code",
   "execution_count": 9,
   "id": "72449611",
   "metadata": {},
   "outputs": [
    {
     "data": {
      "text/plain": [
       "array([3.1, 1.7, 3.2, 4.5, 2.5, 1.6])"
      ]
     },
     "execution_count": 9,
     "metadata": {},
     "output_type": "execute_result"
    }
   ],
   "source": [
    "flux_negatif"
   ]
  },
  {
   "cell_type": "code",
   "execution_count": 10,
   "id": "7ecdef9c",
   "metadata": {},
   "outputs": [
    {
     "name": "stdout",
     "output_type": "stream",
     "text": [
      "Dictionnaire des valeurs de flux associées aux candidats :\n",
      "{'A1': 2.5999999999999996, 'A2': 3.5999999999999996, 'A3': 2.4, 'A4': 1.0999999999999999, 'A5': 3.3999999999999995, 'A6': 3.5}\n"
     ]
    }
   ],
   "source": [
    "# Crée un dictionnaire associant chaque valeur de flux à un candidat\n",
    "flux_dict_po = {f'A{i}': flux for i, flux in enumerate(flux_positif, start=1)}\n",
    "\n",
    "# Affiche le dictionnaire\n",
    "print(\"Dictionnaire des valeurs de flux associées aux candidats :\")\n",
    "print(flux_dict_po)\n"
   ]
  },
  {
   "cell_type": "code",
   "execution_count": 11,
   "id": "5b5b1bee",
   "metadata": {},
   "outputs": [
    {
     "name": "stdout",
     "output_type": "stream",
     "text": [
      "Dictionnaire des valeurs de flux associées aux candidats :\n",
      "{'A1': 3.0999999999999996, 'A2': 1.7, 'A3': 3.1999999999999997, 'A4': 4.5, 'A5': 2.5, 'A6': 1.6}\n"
     ]
    }
   ],
   "source": [
    "flux_dict_neg = {f'A{i}': flux for i, flux in enumerate(flux_negatif, start=1)}\n",
    "print(\"Dictionnaire des valeurs de flux associées aux candidats :\")\n",
    "print(flux_dict_neg)"
   ]
  },
  {
   "cell_type": "code",
   "execution_count": 12,
   "id": "75e31f0d",
   "metadata": {},
   "outputs": [
    {
     "name": "stdout",
     "output_type": "stream",
     "text": [
      "Ordre des candidats en fonction des valeurs de flux positif (ordre décroissant):\n",
      "Position 1: A4\n",
      "Position 2: A3\n",
      "Position 3: A1\n",
      "Position 4: A5\n",
      "Position 5: A6\n",
      "Position 6: A2\n"
     ]
    }
   ],
   "source": [
    "sorted_candidats = sorted(flux_dict_po, key=lambda candidat: flux_dict_po[candidat])\n",
    "print(\"Ordre des candidats en fonction des valeurs de flux positif (ordre décroissant):\")\n",
    "for i, candidat in enumerate(sorted_candidats, start=1):\n",
    "    print(f\"Position {i}: {candidat}\")\n"
   ]
  },
  {
   "cell_type": "code",
   "execution_count": 13,
   "id": "f05052f0",
   "metadata": {},
   "outputs": [
    {
     "name": "stdout",
     "output_type": "stream",
     "text": [
      "Ordre des candidats en fonction des valeurs de flux négatif (ordre croissant):\n",
      "Position 1: A4\n",
      "Position 2: A3\n",
      "Position 3: A1\n",
      "Position 4: A5\n",
      "Position 5: A2\n",
      "Position 6: A6\n"
     ]
    }
   ],
   "source": [
    "sorted_candidats = sorted(flux_dict_neg, key=lambda candidat: flux_dict_neg[candidat], reverse=True)\n",
    "print(\"Ordre des candidats en fonction des valeurs de flux négatif (ordre croissant):\")\n",
    "for i, candidat in enumerate(sorted_candidats, start=1):\n",
    "    print(f\"Position {i}: {candidat}\")"
   ]
  },
  {
   "cell_type": "code",
   "execution_count": null,
   "id": "96734050",
   "metadata": {},
   "outputs": [],
   "source": []
  }
 ],
 "metadata": {
  "kernelspec": {
   "display_name": "Python 3 (ipykernel)",
   "language": "python",
   "name": "python3"
  },
  "language_info": {
   "codemirror_mode": {
    "name": "ipython",
    "version": 3
   },
   "file_extension": ".py",
   "mimetype": "text/x-python",
   "name": "python",
   "nbconvert_exporter": "python",
   "pygments_lexer": "ipython3",
   "version": "3.9.12"
  }
 },
 "nbformat": 4,
 "nbformat_minor": 5
}
